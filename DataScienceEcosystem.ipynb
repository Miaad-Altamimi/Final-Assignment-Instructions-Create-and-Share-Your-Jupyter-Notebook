{
 "cells": [
  {
   "cell_type": "markdown",
   "id": "2960be7e-f922-4063-9880-2251dde73c1b",
   "metadata": {},
   "source": [
    "# Data Science Tools and Ecosystem"
   ]
  },
  {
   "cell_type": "markdown",
   "id": "842815d9-7170-47c5-be86-5a0d0997b404",
   "metadata": {},
   "source": [
    "In this notebook, Data Science Tools and Ecosystem are summarized."
   ]
  },
  {
   "cell_type": "markdown",
   "id": "b278383f-4066-4db6-9025-60a3a1c5a4ab",
   "metadata": {},
   "source": [
    "Some of the popular languages that Data Scientists use are:"
   ]
  },
  {
   "cell_type": "markdown",
   "id": "51417aa2-3bb6-4c2e-818f-277b6481af48",
   "metadata": {},
   "source": [
    "- Python\n",
    "- R\n",
    "- Julia"
   ]
  },
  {
   "cell_type": "markdown",
   "id": "b00d8692-61b9-4353-b9dd-6ad6e8184798",
   "metadata": {},
   "source": [
    "Some of the commonly used libraries used by Data Scientists include:"
   ]
  },
  {
   "cell_type": "markdown",
   "id": "230100b3-142f-4eb4-92e7-eef4da61164d",
   "metadata": {},
   "source": [
    "- NumPy: Fundamental package for scientific computing with Python.\n",
    "- Pandas: Data manipulation and analysis library.\n",
    "- Matplotlib: 2D plotting library for creating static, animated, and interactive visualizations.\n",
    "- Seaborn: Statistical data visualization based on Matplotlib.\n",
    "- Scikit-learn: Machine learning library for classical machine learning algorithms.\n",
    "- TensorFlow: Open-source machine learning framework developed by Google.\n",
    "- PyTorch: Open-source deep learning framework developed by Facebook.\n",
    "- SciPy: Library used for scientific and technical computing.\n",
    "- Statsmodels: Library for estimating and testing statistical models.\n",
    "- NLTK (Natural Language Toolkit): Library for working with human language data."
   ]
  },
  {
   "cell_type": "markdown",
   "id": "30108b3a-49bc-49d5-8716-dce8744897b4",
   "metadata": {},
   "source": [
    "Data Science Tools"
   ]
  },
  {
   "cell_type": "markdown",
   "id": "647739fd-fe06-4110-9fa4-a975e37dda78",
   "metadata": {},
   "source": [
    "| Data Science Tools        |\n",
    "|---------------------------|\n",
    "| Jupyter Notebooks         |\n",
    "| RStudio                   |\n",
    "| VS Code with Python/Jupyter Extension |"
   ]
  },
  {
   "cell_type": "markdown",
   "id": "ec5e77d2-5b2d-4f24-9743-510d2a370c8b",
   "metadata": {},
   "source": [
    "# Data Science Tools and Ecosystem\n",
    "\n",
    "Below are a few examples of evaluating arithmetic expressions in Python.\n",
    "\n",
    "| Data Science Tools        |\n",
    "|---------------------------|\n",
    "| Jupyter Notebooks         |\n",
    "| RStudio                   |\n",
    "| VS Code with Python/Jupyter Extension |"
   ]
  },
  {
   "cell_type": "markdown",
   "id": "c29fe470-eea6-4fd8-b495-9c5b84e54bd2",
   "metadata": {},
   "source": [
    "This a simple arithmetic expression to mutiply then add integers\n",
    "- 3*4 +5"
   ]
  },
  {
   "cell_type": "code",
   "execution_count": 6,
   "id": "7d95d2f1-b6c4-46c7-9a8f-39539891a3e3",
   "metadata": {
    "tags": []
   },
   "outputs": [
    {
     "data": {
      "text/plain": [
       "17"
      ]
     },
     "execution_count": 6,
     "metadata": {},
     "output_type": "execute_result"
    }
   ],
   "source": [
    "(3*4)+5"
   ]
  },
  {
   "cell_type": "markdown",
   "id": "0d7b8a37-858c-4e08-b0e2-01d9d6428c11",
   "metadata": {},
   "source": [
    "This will convert 200 minutes to hours by diving by 60"
   ]
  },
  {
   "cell_type": "code",
   "execution_count": 7,
   "id": "fe62dbb5-bbfb-4277-ab84-b5666103837b",
   "metadata": {
    "tags": []
   },
   "outputs": [
    {
     "data": {
      "text/plain": [
       "3.3333333333333335"
      ]
     },
     "execution_count": 7,
     "metadata": {},
     "output_type": "execute_result"
    }
   ],
   "source": [
    "200/60 #min"
   ]
  },
  {
   "cell_type": "markdown",
   "id": "7b59a7be-fb59-4469-824f-2ce6744f8aed",
   "metadata": {},
   "source": [
    "# Objectives:\n",
    "\n",
    "**Key takeaways from the course:**\n",
    "\n",
    "- List popular languages for Data Science.\n",
    "- Explore common libraries used in Data Science.\n",
    "- Understand the importance of development environment tools.\n",
    "- Create visualizations using Matplotlib and Seaborn.\n",
    "- Learn about evaluating arithmetic expressions in Python."
   ]
  },
  {
   "cell_type": "markdown",
   "id": "6f5f017a-641a-49f2-a282-260285f2604f",
   "metadata": {},
   "source": [
    "## Author\n",
    "\n",
    "Miaad Al Tamimi"
   ]
  },
  {
   "cell_type": "code",
   "execution_count": null,
   "id": "244bc9df-1392-4a70-8137-b0232f7ca2d4",
   "metadata": {},
   "outputs": [],
   "source": []
  }
 ],
 "metadata": {
  "kernelspec": {
   "display_name": "Python 3 (ipykernel)",
   "language": "python",
   "name": "python3"
  },
  "language_info": {
   "codemirror_mode": {
    "name": "ipython",
    "version": 3
   },
   "file_extension": ".py",
   "mimetype": "text/x-python",
   "name": "python",
   "nbconvert_exporter": "python",
   "pygments_lexer": "ipython3",
   "version": "3.11.5"
  }
 },
 "nbformat": 4,
 "nbformat_minor": 5
}
